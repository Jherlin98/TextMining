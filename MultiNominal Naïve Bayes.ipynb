{
 "cells": [
  {
   "cell_type": "code",
   "execution_count": 6,
   "id": "90b8c3d3",
   "metadata": {},
   "outputs": [],
   "source": [
    "import  pandas  as pd\n",
    "from prettytable import PrettyTable\n",
    "import collections\n",
    "from textblob import TextBlob\n",
    "from textblob.classifiers import NaiveBayesClassifier\n",
    "from nltk import precision\n",
    "import nltk.metrics"
   ]
  },
  {
   "cell_type": "code",
   "execution_count": 7,
   "id": "ffffdcaf",
   "metadata": {},
   "outputs": [],
   "source": [
    "df = pd.read_excel('Diabetes-classification.xlsx', \\\n",
    "                   sheet_name='Emotions',)"
   ]
  },
  {
   "cell_type": "code",
   "execution_count": 8,
   "id": "22183acb",
   "metadata": {},
   "outputs": [],
   "source": [
    "df_emo = pd.read_excel('Diabetes-classification.xlsx', sheet_name='Emotions')\n",
    "df_emo_new = df_emo.get([\"discussion_text\", \"Label\"]).astype(str).values\n",
    "# Stringyfying our dataframe"
   ]
  },
  {
   "cell_type": "code",
   "execution_count": 9,
   "id": "ec28597a",
   "metadata": {},
   "outputs": [],
   "source": [
    "emotion_labels = ['Joy', 'Sadness', 'Trust', 'Disgust', 'Fear', 'Anger', 'Anticipation', 'Surprise']\n",
    "# the set of training emotions  \n",
    "train_emotions = [\n",
    "    ('i have also recently joined a few groups and if any people there feel this makes me suspicious please delete me but do have the courtesy to tell me', 'Fear'), \n",
    "    ('i would lose all sense of how much id eaten and feel comlpetely helpless', 'Fear'), \n",
    "    ('i could feel the fearful tears burning my eyes', 'Fear'), \n",
    "    ('i drive from our motel to the start both of us have within the week been diagnosed with foot conditions injuries and have been feeling fairly apprehensive i ask her if she ever feels ready when facing a marathon', 'Fear'), \n",
    "    ('i feel many people are terrified of home birth and must think i am absolutely bonkers for trying to give birth naturally after a cesearean', 'Fear'), \n",
    "    ('i have been under the impression that everythings been fine feel absolutely assaulted by the statement that my co workers have been complaining about me behind my back', 'Fear'), \n",
    "    ('i feel paranoid that while i was simply not engaging in their shallow exuberance they may think i am creepy', 'Fear'), \n",
    "    ('i was still feeling very unsure as denise and i headed out one afternoon to look for a location to shoot', 'Fear'),     \n",
    "\n",
    "    ('i get to run with a group and feel super accomplished afterwards', 'Joy'),\n",
    "    ('i was reminded again that i am not alone in feeling a sense of the presence of the divine', 'Joy'),\n",
    "    ('i can challenge the old ideas about aging i will feel more and more invigorated curtis said in an interview for the magazine s may june issue', 'Joy'),\n",
    "    ('i now feel energised and eager to face the week ahead', 'Joy'),\n",
    "    ('i am feeling mellow and i choose the music that is soft and mystical', 'Joy'),\n",
    "    ('i do often feel that this lady superior is such an amazing being', 'Joy'),\n",
    "    ('i am feeling self satisfied today as i have something to report', 'Joy'),\n",
    "    ('i feel a bit like the peasent underling who has just been told that the handsome knight has done for the evil landowner', 'Joy'),    \n",
    "    \n",
    "    ('i would hate to just through my feelings out there to him and then he rejected me', 'Sadness'),\n",
    "    ('i had the chance to take photos of myself without feeling a little bit vain', 'Sadness'),\n",
    "    ('i feel like so many who were there that tragic day in boston that the littlest decisions seemed to be what saved me from experiencing the full force of the trauma', 'Sadness'),\n",
    "    ('i possibly could not necessarily manage to always be quick with my clients and i undoubtedly can not accomplish my employment well in case i am just feeling lethargic', 'Sadness'),\n",
    "    ('i am feeling rather dismayed at the extra water i m using as this totally goes against the enviro sustainable new me', 'Sadness'),\n",
    "    ('i cant help but feel that this situation is a tragic accident for all of the families involved for the family that lost the person that died in the accident and for cs family', 'Sadness'),\n",
    "    ('i know my feelings are fake but i still need to know why i feel things that arent real when ever i am sad i am so excited and when ever i am happy i cry none stop', 'Sadness'),\n",
    "    ('i feel so jaded which is a strange word to use', 'Sadness'),\n",
    "    ('Feeling of well-being, often also stated as happiness', 'Joy'),\n",
    "    ('Concerned with believing in something or a person.', 'Trust'),\n",
    "    ('Opposite of happiness or joy. Lowering of mood for a temporary period of time', 'Sadness'),\n",
    "    ('Surprise is the result of experiencing something unexpected. Surprise is only momentarily', 'Surprise'),\n",
    "    ('Anticipation is a kind of expectation towards future. The expectation can be of apositive kind (feeling exited) or can be of fear or in extreme cases anxiety', 'Anticipation'),\n",
    "    ('Intense emotional state that includes feelings such as irritation, provocation oreven, at the extreme, rage.', 'Anger'),\n",
    "    ('Fear is present when someone is trying to avoid some kind of pain or a threateningsituation.', 'Fear'),\n",
    "    ('A feeling of revulsion or strong disapproval aroused by something unpleasant oroffensive.', 'Disgust'),\n",
    "    ('I was just put on Metformin for hyperglycemia (type 2 diabetes) AND Lisinopril for high blood pressure.. Does anyone take these meds?. Have their been...', 'Trust'),\n",
    "    ('Is there any other moms here with type 2 diabetes?. Looking for some healthy food andv recipes.','Anticipation')\n",
    "]\n",
    "\n",
    "\n",
    "\n",
    "emotion_cls = NaiveBayesClassifier(df_emo_new)"
   ]
  },
  {
   "cell_type": "markdown",
   "id": "488c469d",
   "metadata": {},
   "source": [
    "### note that by using \"df_emo_new\" as the training, but there is still the \"train_emotions\" available. The reasoning is that the accuracy was a lot higher this way"
   ]
  },
  {
   "cell_type": "code",
   "execution_count": null,
   "id": "b0e6ce95",
   "metadata": {},
   "outputs": [],
   "source": []
  },
  {
   "cell_type": "code",
   "execution_count": 10,
   "id": "d1ec9186",
   "metadata": {},
   "outputs": [
    {
     "name": "stdout",
     "output_type": "stream",
     "text": [
      "classifier accuracy: 0.058823529411764705\n"
     ]
    }
   ],
   "source": [
    "#test_emotions = df_emo_new\n",
    "\n",
    "print('classifier accuracy:', emotion_cls.accuracy(train_emotions))"
   ]
  },
  {
   "cell_type": "code",
   "execution_count": 11,
   "id": "10afcce0",
   "metadata": {},
   "outputs": [
    {
     "name": "stdout",
     "output_type": "stream",
     "text": [
      "+----------------------------------------------------+--------------+-----------------------+\n",
      "|                  discussion_text                   | human label  | classifier prediction |\n",
      "+----------------------------------------------------+--------------+-----------------------+\n",
      "| i have also recently joined a few groups and if an |     Fear     |         Trust         |\n",
      "| i would lose all sense of how much id eaten and fe |     Fear     |         Trust         |\n",
      "|   i could feel the fearful tears burning my eyes   |     Fear     |         Trust         |\n",
      "| i drive from our motel to the start both of us hav |     Fear     |         Trust         |\n",
      "| i feel many people are terrified of home birth and |     Fear     |         Trust         |\n",
      "| i have been under the impression that everythings  |     Fear     |         Trust         |\n",
      "| i feel paranoid that while i was simply not engagi |     Fear     |         Trust         |\n",
      "| i was still feeling very unsure as denise and i he |     Fear     |         Trust         |\n",
      "| i get to run with a group and feel super accomplis |     Joy      |         Trust         |\n",
      "| i was reminded again that i am not alone in feelin |     Joy      |         Trust         |\n",
      "| i can challenge the old ideas about aging i will f |     Joy      |         Trust         |\n",
      "| i now feel energised and eager to face the week ah |     Joy      |         Trust         |\n",
      "| i am feeling mellow and i choose the music that is |     Joy      |      Anticipation     |\n",
      "| i do often feel that this lady superior is such an |     Joy      |         Trust         |\n",
      "| i am feeling self satisfied today as i have someth |     Joy      |         Trust         |\n",
      "| i feel a bit like the peasent underling who has ju |     Joy      |         Trust         |\n",
      "| i would hate to just through my feelings out there |   Sadness    |         Trust         |\n",
      "| i had the chance to take photos of myself without  |   Sadness    |         Trust         |\n",
      "| i feel like so many who were there that tragic day |   Sadness    |         Trust         |\n",
      "| i possibly could not necessarily manage to always  |   Sadness    |         Trust         |\n",
      "| i am feeling rather dismayed at the extra water i  |   Sadness    |         Trust         |\n",
      "| i cant help but feel that this situation is a trag |   Sadness    |      Anticipation     |\n",
      "| i know my feelings are fake but i still need to kn |   Sadness    |         Trust         |\n",
      "|   i feel so jaded which is a strange word to use   |   Sadness    |         Trust         |\n",
      "| Feeling of well-being, often also stated as happin |     Joy      |         Trust         |\n",
      "| Concerned with believing in something or a person. |    Trust     |         Trust         |\n",
      "| Opposite of happiness or joy. Lowering of mood for |   Sadness    |         Trust         |\n",
      "| Surprise is the result of experiencing something u |   Surprise   |         Trust         |\n",
      "| Anticipation is a kind of expectation towards futu | Anticipation |         Trust         |\n",
      "| Intense emotional state that includes feelings suc |    Anger     |         Trust         |\n",
      "| Fear is present when someone is trying to avoid so |     Fear     |         Trust         |\n",
      "| A feeling of revulsion or strong disapproval arous |   Disgust    |         Trust         |\n",
      "| I was just put on Metformin for hyperglycemia (typ |    Trust     |         Trust         |\n",
      "| Is there any other moms here with type 2 diabetes? | Anticipation |         Trust         |\n",
      "+----------------------------------------------------+--------------+-----------------------+\n"
     ]
    }
   ],
   "source": [
    "tab = PrettyTable(['discussion_text', 'human label', 'classifier prediction'])\n",
    "predicted_labels = collections.defaultdict(set)\n",
    "actual_labels = collections.defaultdict(set)\n",
    "\n",
    "i = 0\n",
    "for (text, label) in df_emo_new:\n",
    "    predicted = emotion_cls.classify(text)\n",
    "    tab.add_row([text[0:50], label, predicted])\n",
    "    actual_labels[label].add(i)\n",
    "    predicted_labels[predicted].add(i)\n",
    "    i+=1\n",
    "# for loop for displaying the human label and classifier prediction for every discussion text part.\n",
    "print(tab)    \n",
    "\n",
    "#Display the real emotion vs. the predicted one"
   ]
  },
  {
   "cell_type": "code",
   "execution_count": null,
   "id": "d37dfc89",
   "metadata": {},
   "outputs": [],
   "source": []
  },
  {
   "cell_type": "code",
   "execution_count": 12,
   "id": "5c2659c1",
   "metadata": {},
   "outputs": [
    {
     "name": "stdout",
     "output_type": "stream",
     "text": [
      "+--------------+-----------+--------+---------------------+\n",
      "|    Label     | precision | recall |      f-measure      |\n",
      "+--------------+-----------+--------+---------------------+\n",
      "|     Fear     |    None   |  0.0   |         None        |\n",
      "|     Joy      |    None   |  0.0   |         None        |\n",
      "|   Sadness    |    None   |  0.0   |         None        |\n",
      "|    Trust     |   0.0625  |  1.0   | 0.11764705882352941 |\n",
      "|   Surprise   |    None   |  0.0   |         None        |\n",
      "| Anticipation |    0.0    |  0.0   |          0          |\n",
      "|    Anger     |    None   |  0.0   |         None        |\n",
      "|   Disgust    |    None   |  0.0   |         None        |\n",
      "+--------------+-----------+--------+---------------------+\n"
     ]
    }
   ],
   "source": [
    "tab2 = PrettyTable(['Label', 'precision', 'recall', 'f-measure'])\n",
    "\n",
    "for label in actual_labels:\n",
    "    tab2.add_row([label, nltk.precision(actual_labels[label], predicted_labels[label]), \n",
    "                nltk.recall(actual_labels[label], predicted_labels[label]),\n",
    "                nltk.f_measure(actual_labels[label], predicted_labels[label])])\n",
    "    # showing the performance of the NB.\n",
    "print(tab2)\n"
   ]
  },
  {
   "cell_type": "code",
   "execution_count": 154,
   "id": "2d07dfd6",
   "metadata": {},
   "outputs": [
    {
     "name": "stdout",
     "output_type": "stream",
     "text": [
      "Most Informative Features\n",
      "      contains(Congrats) = True            Anger : Trust  =     31.5 : 1.0\n",
      "         contains(Foods) = True            Anger : Trust  =     22.5 : 1.0\n",
      "         contains(bacon) = True            Anger : Trust  =     22.5 : 1.0\n",
      "          contains(hold) = True            Anger : Trust  =     22.5 : 1.0\n",
      "         contains(lover) = True            Anger : Trust  =     22.5 : 1.0\n",
      "      contains(reaction) = True            Anger : Trust  =     22.5 : 1.0\n",
      "         contains(shift) = True            Anger : Trust  =     22.5 : 1.0\n",
      "            contains(38) = True             Fear : Trust  =     20.8 : 1.0\n",
      "         contains(crazy) = True             Fear : Trust  =     20.8 : 1.0\n",
      "        contains(stated) = True             Fear : Trust  =     20.8 : 1.0\n",
      "           contains(2nd) = True            Anger : Antici =     18.0 : 1.0\n",
      "          contains(flow) = True            Anger : Antici =     18.0 : 1.0\n",
      "    contains(incredibly) = True            Anger : Antici =     18.0 : 1.0\n",
      "    contains(motivation) = True            Anger : Antici =     18.0 : 1.0\n",
      "    contains(responding) = True            Anger : Antici =     18.0 : 1.0\n",
      "  contains(intervention) = True             Fear : Antici =     16.7 : 1.0\n",
      "            contains(42) = True             Fear : Trust  =     14.9 : 1.0\n",
      "     contains(Brunneria) = True             Fear : Trust  =     14.9 : 1.0\n",
      "            contains(bc) = True             Fear : Trust  =     14.9 : 1.0\n",
      "      contains(controls) = True             Fear : Trust  =     14.9 : 1.0\n",
      "         contains(deals) = True             Fear : Trust  =     14.9 : 1.0\n",
      "         contains(exist) = True             Fear : Trust  =     14.9 : 1.0\n",
      "           contains(jog) = True             Fear : Trust  =     14.9 : 1.0\n",
      "          contains(lock) = True             Fear : Trust  =     14.9 : 1.0\n",
      "        contains(skinny) = True             Fear : Trust  =     14.9 : 1.0\n",
      "      contains(speaking) = True             Fear : Trust  =     14.9 : 1.0\n",
      "       contains(suppose) = True             Fear : Trust  =     14.9 : 1.0\n",
      "       contains(systems) = True             Fear : Trust  =     14.9 : 1.0\n",
      "          contains(zero) = True             Fear : Trust  =     14.9 : 1.0\n",
      "           contains(BMI) = True            Anger : Disgus =     14.8 : 1.0\n",
      "contains(hypothyroidism) = True           Surpri : Antici =     13.8 : 1.0\n",
      "          contains(seek) = True           Surpri : Antici =     13.8 : 1.0\n",
      "          contains(10.0) = True            Anger : Trust  =     13.5 : 1.0\n",
      "           contains(102) = True            Anger : Trust  =     13.5 : 1.0\n",
      "          contains(15.3) = True            Anger : Trust  =     13.5 : 1.0\n",
      "           contains(20s) = True            Anger : Trust  =     13.5 : 1.0\n",
      "          contains(23.5) = True            Anger : Trust  =     13.5 : 1.0\n",
      "           contains(234) = True            Anger : Trust  =     13.5 : 1.0\n",
      "         contains(29-30) = True            Anger : Trust  =     13.5 : 1.0\n",
      "          contains(29.7) = True            Anger : Trust  =     13.5 : 1.0\n",
      "          contains(30th) = True            Anger : Trust  =     13.5 : 1.0\n",
      "           contains(365) = True            Anger : Trust  =     13.5 : 1.0\n",
      "           contains(5.6) = True            Anger : Trust  =     13.5 : 1.0\n",
      "           contains(9.0) = True            Anger : Trust  =     13.5 : 1.0\n",
      "            contains(97) = True            Anger : Trust  =     13.5 : 1.0\n",
      "          contains(AASM) = True            Anger : Trust  =     13.5 : 1.0\n",
      "       contains(Academy) = True            Anger : Trust  =     13.5 : 1.0\n",
      "         contains(Along) = True            Anger : Trust  =     13.5 : 1.0\n",
      "        contains(Amaryl) = True            Anger : Trust  =     13.5 : 1.0\n",
      "       contains(Anyways) = True            Anger : Trust  =     13.5 : 1.0\n",
      "        contains(B-cell) = True            Anger : Trust  =     13.5 : 1.0\n",
      "          contains(CPAP) = True            Anger : Trust  =     13.5 : 1.0\n",
      "         contains(Carbs) = True            Anger : Trust  =     13.5 : 1.0\n",
      "   contains(Cholesterol) = True            Anger : Trust  =     13.5 : 1.0\n",
      "          contains(Dear) = True            Anger : Trust  =     13.5 : 1.0\n",
      "          contains(Deus) = True            Anger : Trust  =     13.5 : 1.0\n",
      "           contains(Doc) = True            Anger : Trust  =     13.5 : 1.0\n",
      "           contains(ENT) = True            Anger : Trust  =     13.5 : 1.0\n",
      " contains(Empagliflozin) = True            Anger : Trust  =     13.5 : 1.0\n",
      "          contains(Feel) = True            Anger : Trust  =     13.5 : 1.0\n",
      "         contains(Happy) = True            Anger : Trust  =     13.5 : 1.0\n",
      "      contains(Hyppoxia) = True            Anger : Trust  =     13.5 : 1.0\n",
      "           contains(Ian) = True            Anger : Trust  =     13.5 : 1.0\n",
      "   contains(Interesting) = True            Anger : Trust  =     13.5 : 1.0\n",
      "     contains(Jardiance) = True            Anger : Trust  =     13.5 : 1.0\n",
      "         contains(Julie) = True            Anger : Trust  =     13.5 : 1.0\n",
      "      contains(Lorraine) = True            Anger : Trust  =     13.5 : 1.0\n",
      "          contains(Lucc) = True            Anger : Trust  =     13.5 : 1.0\n",
      "          contains(MADE) = True            Anger : Trust  =     13.5 : 1.0\n",
      "     contains(McDougall) = True            Anger : Trust  =     13.5 : 1.0\n",
      "           contains(N'T) = True            Anger : Trust  =     13.5 : 1.0\n",
      "      contains(Normally) = True            Anger : Trust  =     13.5 : 1.0\n",
      "           contains(PFT) = True            Anger : Trust  =     13.5 : 1.0\n",
      "contains(Pharmaceutical) = True            Anger : Trust  =     13.5 : 1.0\n",
      "          contains(Prof) = True            Anger : Trust  =     13.5 : 1.0\n",
      "         contains(SGLT2) = True            Anger : Trust  =     13.5 : 1.0\n",
      "        contains(SHOULD) = True            Anger : Trust  =     13.5 : 1.0\n",
      "         contains(Steve) = True            Anger : Trust  =     13.5 : 1.0\n",
      "  contains(Surprisingly) = True            Anger : Trust  =     13.5 : 1.0\n",
      "      contains(Tapeworm) = True            Anger : Trust  =     13.5 : 1.0\n",
      "         contains(Upset) = True            Anger : Trust  =     13.5 : 1.0\n",
      "          contains(West) = True            Anger : Trust  =     13.5 : 1.0\n",
      "        contains(action) = True            Anger : Trust  =     13.5 : 1.0\n",
      "       contains(adopted) = True            Anger : Trust  =     13.5 : 1.0\n",
      "           contains(agp) = True            Anger : Trust  =     13.5 : 1.0\n",
      "    contains(altogether) = True            Anger : Trust  =     13.5 : 1.0\n",
      "       contains(anaemia) = True            Anger : Trust  =     13.5 : 1.0\n",
      "        contains(annoys) = True            Anger : Trust  =     13.5 : 1.0\n",
      "    contains(assistance) = True            Anger : Trust  =     13.5 : 1.0\n",
      "     contains(associate) = True            Anger : Trust  =     13.5 : 1.0\n",
      "             contains(b) = True            Anger : Trust  =     13.5 : 1.0\n",
      "          contains(base) = True            Anger : Trust  =     13.5 : 1.0\n",
      "   contains(beautifully) = True            Anger : Trust  =     13.5 : 1.0\n",
      "         contains(belly) = True            Anger : Trust  =     13.5 : 1.0\n",
      "        contains(beside) = True            Anger : Trust  =     13.5 : 1.0\n",
      "      contains(cellular) = True            Anger : Trust  =     13.5 : 1.0\n",
      "       contains(classed) = True            Anger : Trust  =     13.5 : 1.0\n",
      "       contains(classes) = True            Anger : Trust  =     13.5 : 1.0\n",
      "      contains(clicking) = True            Anger : Trust  =     13.5 : 1.0\n",
      "       contains(closely) = True            Anger : Trust  =     13.5 : 1.0\n"
     ]
    }
   ],
   "source": [
    "# The 100 most informative features\n",
    "emotion_cls.show_informative_features(100)  "
   ]
  },
  {
   "cell_type": "code",
   "execution_count": null,
   "id": "19e47c1c",
   "metadata": {},
   "outputs": [],
   "source": []
  }
 ],
 "metadata": {
  "kernelspec": {
   "display_name": "Python 3 (ipykernel)",
   "language": "python",
   "name": "python3"
  },
  "language_info": {
   "codemirror_mode": {
    "name": "ipython",
    "version": 3
   },
   "file_extension": ".py",
   "mimetype": "text/x-python",
   "name": "python",
   "nbconvert_exporter": "python",
   "pygments_lexer": "ipython3",
   "version": "3.8.12"
  }
 },
 "nbformat": 4,
 "nbformat_minor": 5
}
